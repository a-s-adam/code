{
 "cells": [
  {
   "cell_type": "code",
   "execution_count": 6,
   "metadata": {},
   "outputs": [
    {
     "name": "stdout",
     "output_type": "stream",
     "text": [
      "Number of unique names from set method: 3\n",
      "Number of unique names from list method: 3\n"
     ]
    }
   ],
   "source": [
    "def list_unique_names(phonebook):\n",
    "    unique_names = []\n",
    "    for name, phonenumber in phonebook:             # 1\n",
    "        first_name, last_name = name.split(\" \", 1)\n",
    "        for unique in unique_names:                 # 2\n",
    "            if unique == first_name:\n",
    "                break\n",
    "        else:\n",
    "            unique_names.append(first_name)\n",
    "    return len(unique_names)\n",
    "\n",
    "def set_unique_names(phonebook):\n",
    "    unique_names = set()\n",
    "    for name, phonenumber in phonebook:             # 3\n",
    "        first_name, last_name = name.split(\" \", 1)\n",
    "        unique_names.add(first_name)                # 4\n",
    "    return len(unique_names)\n",
    "\n",
    "phonebook = [\n",
    "    (\"John Doe\", \"555-555-5555\"),\n",
    "    (\"Albert Einstein\", \"212-555-5555\"),\n",
    "    (\"John Murphey\", \"202-555-5555\"),\n",
    "    (\"Albert Rutherford\", \"647-555-5555\"),\n",
    "    (\"Elaine Bodian\", \"301-555-5555\"),\n",
    "]\n",
    "print (\"Number of unique names from set method:\", set_unique_names(phonebook))\n",
    "print (\"Number of unique names from list method:\", list_unique_names(phonebook))"
   ]
  },
  {
   "cell_type": "code",
   "execution_count": 20,
   "metadata": {},
   "outputs": [
    {
     "name": "stdout",
     "output_type": "stream",
     "text": [
      "EE102_AustinAdam_FinalCode.txt\n"
     ]
    }
   ],
   "source": [
    "import os\n",
    "\n",
    "directory_in_str = os.getcwd()\n",
    "directory = os.fsencode(directory_in_str) # optional encode\n",
    "\n",
    "for file in os.listdir(directory_in_str):\n",
    "    filename = os.fsdecode(file) # optional decode, error may occur with windows/strict editors\n",
    "    if filename.endswith(\".txt\") or filename.endswith(\".py\"): \n",
    "        print((filename))\n",
    "        continue\n",
    "        "
   ]
  },
  {
   "cell_type": "code",
   "execution_count": 65,
   "metadata": {},
   "outputs": [],
   "source": [
    "phonebook = [\n",
    "    (\"John Doe\", \"555-555-5555\"),\n",
    "    (\"Albert Einstein\", \"212-555-5555\"),\n",
    "    (\"John Murphey\", \"202-555-5555\"),\n",
    "    (\"Albert Rutherford\", \"647-555-5555\"),\n",
    "    (\"Elaine Bodian\", \"301-555-5555\"),\n",
    "]\n",
    "def convertTuple(tup): \n",
    "    str =  ''.join(tup) \n",
    "    return str\n"
   ]
  },
  {
   "cell_type": "code",
   "execution_count": 34,
   "metadata": {},
   "outputs": [
    {
     "data": {
      "text/plain": [
       "'Elaine'"
      ]
     },
     "execution_count": 34,
     "metadata": {},
     "output_type": "execute_result"
    }
   ],
   "source": [
    "first_name\n"
   ]
  },
  {
   "cell_type": "code",
   "execution_count": 64,
   "metadata": {},
   "outputs": [
    {
     "name": "stdout",
     "output_type": "stream",
     "text": [
      "['apple', 'banana#cherry#orange']\n"
     ]
    }
   ],
   "source": [
    "txt = \"apple#banana#cherry#orange\"\n",
    "\n",
    "# setting the maxsplit parameter to 1, will return a list with 2 elements!\n",
    "x = txt.split(\"#\", 1)\n",
    "\n",
    "print(x)"
   ]
  },
  {
   "cell_type": "code",
   "execution_count": 62,
   "metadata": {},
   "outputs": [],
   "source": [
    "for index, value in enumerate (phonebook):\n",
    "    if value == \"John Doe\":\n",
    "        print(\"We done\")\n",
    "    else:\n",
    "        continue"
   ]
  },
  {
   "cell_type": "code",
   "execution_count": 70,
   "metadata": {},
   "outputs": [
    {
     "ename": "ValueError",
     "evalue": "invalid literal for int() with base 10: 'Yes'",
     "output_type": "error",
     "traceback": [
      "\u001b[1;31m---------------------------------------------------------------------------\u001b[0m",
      "\u001b[1;31mValueError\u001b[0m                                Traceback (most recent call last)",
      "\u001b[1;32m<ipython-input-70-c5b7054147ca>\u001b[0m in \u001b[0;36m<module>\u001b[1;34m\u001b[0m\n\u001b[0;32m      2\u001b[0m \u001b[0mb\u001b[0m\u001b[1;33m=\u001b[0m \u001b[1;36m20\u001b[0m\u001b[1;33m\u001b[0m\u001b[1;33m\u001b[0m\u001b[0m\n\u001b[0;32m      3\u001b[0m \u001b[0mc\u001b[0m \u001b[1;33m=\u001b[0m \u001b[1;34m\"Yes\"\u001b[0m\u001b[1;33m\u001b[0m\u001b[1;33m\u001b[0m\u001b[0m\n\u001b[1;32m----> 4\u001b[1;33m \u001b[0mint\u001b[0m\u001b[1;33m(\u001b[0m\u001b[0mc\u001b[0m\u001b[1;33m)\u001b[0m\u001b[1;33m\u001b[0m\u001b[1;33m\u001b[0m\u001b[0m\n\u001b[0m\u001b[0;32m      5\u001b[0m \u001b[1;32mif\u001b[0m \u001b[0ma\u001b[0m \u001b[1;33m<\u001b[0m \u001b[0mb\u001b[0m\u001b[1;33m:\u001b[0m\u001b[1;33m\u001b[0m\u001b[1;33m\u001b[0m\u001b[0m\n\u001b[0;32m      6\u001b[0m     \u001b[0mprint\u001b[0m \u001b[1;33m(\u001b[0m\u001b[0mstr\u001b[0m\u001b[1;33m(\u001b[0m\u001b[0ma\u001b[0m\u001b[1;33m)\u001b[0m \u001b[1;33m+\u001b[0m \u001b[1;34m\"is less than\"\u001b[0m \u001b[1;33m+\u001b[0m \u001b[0mstr\u001b[0m\u001b[1;33m(\u001b[0m\u001b[0mb\u001b[0m\u001b[1;33m)\u001b[0m\u001b[1;33m)\u001b[0m\u001b[1;33m\u001b[0m\u001b[1;33m\u001b[0m\u001b[0m\n",
      "\u001b[1;31mValueError\u001b[0m: invalid literal for int() with base 10: 'Yes'"
     ]
    }
   ],
   "source": [
    "a = 10\n",
    "b= 20\n",
    "c = \"Yes\"\n",
    "\n",
    "if a < b:\n",
    "    print (str(a) + \"is less than\" + str(b))"
   ]
  },
  {
   "cell_type": "code",
   "execution_count": null,
   "metadata": {},
   "outputs": [],
   "source": []
  }
 ],
 "metadata": {
  "kernelspec": {
   "display_name": "Python 3",
   "language": "python",
   "name": "python3"
  },
  "language_info": {
   "codemirror_mode": {
    "name": "ipython",
    "version": 3
   },
   "file_extension": ".py",
   "mimetype": "text/x-python",
   "name": "python",
   "nbconvert_exporter": "python",
   "pygments_lexer": "ipython3",
   "version": "3.7.4"
  }
 },
 "nbformat": 4,
 "nbformat_minor": 2
}
